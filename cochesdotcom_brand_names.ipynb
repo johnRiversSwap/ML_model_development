{
 "cells": [
  {
   "cell_type": "code",
   "execution_count": null,
   "id": "ce8b5533-f8bf-4cca-a3da-ff1e9f5f9ca6",
   "metadata": {},
   "outputs": [],
   "source": [
    "#getting coches.com list of brands\n",
    "import pandas as pd\n",
    "from bs4 import BeautifulSoup\n",
    "import requests\n",
    "from datetime import datetime\n",
    "\n",
    "# Send a request with a valid user-agent header\n",
    "headers = {'user-agent': 'Mozilla/5.0 (Windows NT 10.0; Win64; x64; rv:60.0) Gecko/20100101 Firefox/60.0'}\n",
    "url = 'https://www.coches.com/coches-segunda-mano/'\n",
    "res = requests.get(url, headers=headers)\n",
    "soup = BeautifulSoup(res.text, 'lxml')\n",
    "\n",
    "# Find all <div> tags with the specified class\n",
    "div = soup.find('div', class_='Grid-module_grid__h49fk BrandList_grid__M6U5y BrandList_grid-no-column___aVo5')\n",
    "brands = div.find_all ('a')\n",
    "# Extract brand names\n",
    "brand_names = []\n",
    "for brand in brands:\n",
    "    brand_name_span = brand.find('span')\n",
    "    if brand_name_span:\n",
    "        brand_name = brand_name_span.find('span', class_='TextButton-module_content__eBnG1')\n",
    "        brand_names.append(brand_name.text)\n",
    "\n",
    "print(brand_names)\n"
   ]
  }
 ],
 "metadata": {
  "kernelspec": {
   "display_name": "Python 3 (ipykernel)",
   "language": "python",
   "name": "python3"
  },
  "language_info": {
   "codemirror_mode": {
    "name": "ipython",
    "version": 3
   },
   "file_extension": ".py",
   "mimetype": "text/x-python",
   "name": "python",
   "nbconvert_exporter": "python",
   "pygments_lexer": "ipython3",
   "version": "3.11.7"
  }
 },
 "nbformat": 4,
 "nbformat_minor": 5
}
