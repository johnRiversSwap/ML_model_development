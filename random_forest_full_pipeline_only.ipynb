{
 "cells": [
  {
   "cell_type": "code",
   "execution_count": 2,
   "id": "7f545aa4-b67f-44f2-b532-7b8449dbcbce",
   "metadata": {},
   "outputs": [
    {
     "name": "stdout",
     "output_type": "stream",
     "text": [
      "Pipeline saved successfully.\n"
     ]
    }
   ],
   "source": [
    "# Data Preparation and Defining X and y\n",
    "import pandas as pd\n",
    "from datetime import datetime\n",
    "from sklearn.preprocessing import StandardScaler, OneHotEncoder\n",
    "from sklearn.decomposition import PCA\n",
    "from sklearn.pipeline import Pipeline\n",
    "from sklearn.compose import ColumnTransformer\n",
    "from sklearn.ensemble import RandomForestRegressor\n",
    "import joblib\n",
    "\n",
    "# Load the CSV file into a DataFrame\n",
    "df = pd.read_csv('clean_cochesdotcom_detail_pages_2024-05-13.csv')\n",
    "\n",
    "# Convert 'Año' to datetime, specifying the format to correctly parse month and year\n",
    "df['Año'] = pd.to_datetime(df['Año'], format='%m/%Y')\n",
    "\n",
    "# Calculate 'Age' in days from 'Año' to the current date\n",
    "df['Age'] = (datetime.now() - df['Año']).dt.days\n",
    "\n",
    "# Drop the 'Año' column after calculating 'Age'\n",
    "df = df.drop(['Año'], axis=1)\n",
    "\n",
    "# Impute missing values and encode categorical variables\n",
    "for column in df.columns:\n",
    "    if df[column].dtype == 'float64' or df[column].dtype == 'int64':\n",
    "        df[column] = df.groupby(['make', 'model', 'Cambio', 'Potencia (cv)'])[column].transform(lambda x: x.fillna(x.mean()))\n",
    "    elif df[column].dtype == 'bool':\n",
    "        df[column] = df.groupby(['make', 'model', 'Cambio', 'Potencia (cv)'])[column].transform(lambda x: x.fillna(x.mode().iloc[0] if not x.mode().empty else \"Unknown\"))\n",
    "\n",
    "df = df.dropna()\n",
    "\n",
    "target = 'cash'\n",
    "categorical_cols = ['make', 'model', 'Combustible', 'Cambio', 'Vendedor', 'Transmisión', 'Tracción', 'Carrocería']\n",
    "numerical_cols = df.select_dtypes(include=['int64', 'float64']).columns.tolist()\n",
    "numerical_cols.remove(target)\n",
    "\n",
    "# Preparing features and target\n",
    "X = df.drop(target, axis=1)\n",
    "y = df[target]\n",
    "\n",
    "# Pipeline setup\n",
    "numerical_transformer = Pipeline([\n",
    "    ('scaler', StandardScaler()),\n",
    "    ('pca', PCA(n_components=0.95))\n",
    "])\n",
    "\n",
    "categorical_transformer = OneHotEncoder(handle_unknown='ignore')\n",
    "\n",
    "preprocessor = ColumnTransformer(transformers=[\n",
    "    ('num', numerical_transformer, numerical_cols),\n",
    "    ('cat', categorical_transformer, categorical_cols)\n",
    "])\n",
    "\n",
    "full_pipeline = Pipeline([\n",
    "    ('preprocessor', preprocessor),\n",
    "    ('model', RandomForestRegressor(n_estimators=200, min_samples_split=5, max_features='sqrt', max_depth=20))\n",
    "])\n",
    "\n",
    "# Fit the full pipeline to the entire dataset\n",
    "full_pipeline.fit(X, y)\n",
    "\n",
    "# Save the fitted pipeline\n",
    "joblib.dump(full_pipeline, 'model_rf.joblib')\n",
    "print(\"Pipeline saved successfully.\")\n"
   ]
  },
  {
   "cell_type": "code",
   "execution_count": 2,
   "id": "6b010fc0-d39b-4f2e-b354-c041d6ccf894",
   "metadata": {},
   "outputs": [
    {
     "name": "stdout",
     "output_type": "stream",
     "text": [
      "Scikit-learn version: 1.5.0\n"
     ]
    }
   ],
   "source": [
    "import sklearn\n",
    "print(\"Scikit-learn version:\", sklearn.__version__)\n"
   ]
  },
  {
   "cell_type": "code",
   "execution_count": null,
   "id": "68ef7517-106e-47d1-8551-cd979c0a7515",
   "metadata": {},
   "outputs": [],
   "source": []
  }
 ],
 "metadata": {
  "kernelspec": {
   "display_name": "Python 3 (ipykernel)",
   "language": "python",
   "name": "python3"
  },
  "language_info": {
   "codemirror_mode": {
    "name": "ipython",
    "version": 3
   },
   "file_extension": ".py",
   "mimetype": "text/x-python",
   "name": "python",
   "nbconvert_exporter": "python",
   "pygments_lexer": "ipython3",
   "version": "3.11.7"
  }
 },
 "nbformat": 4,
 "nbformat_minor": 5
}
